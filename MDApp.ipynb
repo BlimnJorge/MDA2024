{
 "cells": [
  {
   "cell_type": "code",
   "execution_count": 1,
   "id": "4dd235c4",
   "metadata": {},
   "outputs": [
    {
     "name": "stdout",
     "output_type": "stream",
     "text": [
      "Dash app running on http://127.0.0.1:8051/\n"
     ]
    }
   ],
   "source": [
    "import dash\n",
    "from dash import jupyter_dash\n",
    "from dash import html, dcc, Input, Output, callback\n",
    "import dash_bootstrap_components as dbc\n",
    "import dash_leaflet as dl\n",
    "\n",
    "# Example coordinates for Brussels, Belgium\n",
    "example_lat, example_lon = 50.8503, 4.3517\n",
    "\n",
    "app = dash.Dash(__name__, external_stylesheets=[dbc.themes.BOOTSTRAP])\n",
    "\n",
    "app.layout = dbc.Container(fluid=True, children=[\n",
    "    dbc.Row([\n",
    "        dbc.Col(html.H1(\"AED Locator\", className=\"text-center\"), width=12)\n",
    "    ]),\n",
    "    dbc.Row([\n",
    "        dbc.Col([\n",
    "            dl.Map(center=(example_lat, example_lon), zoom=12, children=[\n",
    "                dl.TileLayer(),\n",
    "                dl.Marker(position=(example_lat, example_lon), children=[\n",
    "                    dl.Tooltip(\"Your Location (Example)\"),\n",
    "                    dl.Popup(\"This is an example location in Brussels, Belgium.\")\n",
    "                ])\n",
    "            ], style={'width': '100%', 'height': '50vh', 'margin': \"auto\", \"display\": \"block\"})\n",
    "        ], width=12)\n",
    "    ]),\n",
    "    dbc.Row([\n",
    "        dbc.Col(dbc.Button(\"Get Directions to Nearest AED\", color=\"primary\", className=\"mt-3\", id=\"get-directions-btn\"), width=12)\n",
    "    ]),\n",
    "    dbc.Row([\n",
    "        dbc.Col(html.Div(id=\"directions-output\"), width=12)\n",
    "    ])\n",
    "])\n",
    "\n",
    "# Placeholder callback for button\n",
    "@callback(\n",
    "    Output(\"directions-output\", \"children\"),\n",
    "    Input(\"get-directions-btn\", \"n_clicks\")\n",
    ")\n",
    "def show_directions(n_clicks):\n",
    "    if n_clicks:\n",
    "        return html.P(\"Directions to the nearest AED will be displayed here.\")\n",
    "    return \"\"\n",
    "\n",
    "if __name__ == '__main__':\n",
    "    app.run(jupyter_mode=\"external\", port = 8051)\n"
   ]
  },
  {
   "cell_type": "code",
   "execution_count": null,
   "id": "273636c7",
   "metadata": {},
   "outputs": [],
   "source": []
  }
 ],
 "metadata": {
  "kernelspec": {
   "display_name": "Python 3 (ipykernel)",
   "language": "python",
   "name": "python3"
  },
  "language_info": {
   "codemirror_mode": {
    "name": "ipython",
    "version": 3
   },
   "file_extension": ".py",
   "mimetype": "text/x-python",
   "name": "python",
   "nbconvert_exporter": "python",
   "pygments_lexer": "ipython3",
   "version": "3.11.7"
  }
 },
 "nbformat": 4,
 "nbformat_minor": 5
}
