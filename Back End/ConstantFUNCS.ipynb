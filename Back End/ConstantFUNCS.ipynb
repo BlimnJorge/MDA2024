{
 "cells": [
  {
   "cell_type": "code",
   "execution_count": null,
   "id": "a82c924d-0402-4e2a-bf3e-14ae13ff0cef",
   "metadata": {},
   "outputs": [],
   "source": [
    "def parse_time_range(time_range):\n",
    "    start, end = time_range.strip('[]').split(' - ')\n",
    "    return start.strip(), end.strip()"
   ]
  },
  {
   "cell_type": "code",
   "execution_count": null,
   "id": "64ed5040-9f5b-489c-b740-7a2ca81b9930",
   "metadata": {},
   "outputs": [],
   "source": [
    "def is_in_schedule(schedule, datetime_obj):\n",
    "    # Get the day of the week from the datetime object\n",
    "    day_of_week = datetime_obj.strftime(\"%A\")\n",
    "\n",
    "    # Check if the day is in the schedule\n",
    "    if day_of_week not in schedule:\n",
    "        return True \n",
    "\n",
    "    if schedule[day_of_week] = 0:\n",
    "        return False\n",
    "\n",
    "    # Get the intervals for the day from the schedule\n",
    "    intervals = schedule[day_of_week]\n",
    "\n",
    "    # Check if the datetime falls within any of the intervals\n",
    "    for time_range in intervals:\n",
    "        start_time_str, end_time_str = parse_time_range(time_range)\n",
    "\n",
    "        # Parse start and end times\n",
    "        start_time = datetime.strptime(start_time_str, '%I %p').time()\n",
    "        end_time = datetime.strptime(end_time_str, '%I %p').time()\n",
    "\n",
    "        # Check if the datetime falls within this interval\n",
    "        if start_time <= datetime_obj.time() <= end_time:\n",
    "            return True\n",
    "\n",
    "    # If none of the intervals match, return False\n",
    "    return False"
   ]
  }
 ],
 "metadata": {
  "kernelspec": {
   "display_name": "Python 3 (ipykernel)",
   "language": "python",
   "name": "python3"
  },
  "language_info": {
   "codemirror_mode": {
    "name": "ipython",
    "version": 3
   },
   "file_extension": ".py",
   "mimetype": "text/x-python",
   "name": "python",
   "nbconvert_exporter": "python",
   "pygments_lexer": "ipython3",
   "version": "3.11.7"
  }
 },
 "nbformat": 4,
 "nbformat_minor": 5
}
