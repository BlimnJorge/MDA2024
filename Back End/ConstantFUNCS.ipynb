{
 "cells": [
  {
   "cell_type": "code",
   "execution_count": null,
   "id": "a82c924d-0402-4e2a-bf3e-14ae13ff0cef",
   "metadata": {},
   "outputs": [],
   "source": [
    "def parse_time_range(time_range):\n",
    "    start, end = time_range.strip('[]').split(' - ')\n",
    "    return start.strip(), end.strip()"
   ]
  },
  {
   "cell_type": "code",
   "execution_count": null,
   "id": "64ed5040-9f5b-489c-b740-7a2ca81b9930",
   "metadata": {},
   "outputs": [],
   "source": [
    "def is_in_schedule(schedule, datetime_obj):\n",
    "    # Get the day of the week from the datetime object\n",
    "    day_of_week = datetime_obj.strftime(\"%A\")\n",
    "\n",
    "    # Check if the day is in the schedule\n",
    "    if day_of_week not in schedule:\n",
    "        return True \n",
    "\n",
    "    if schedule[day_of_week] == 0:\n",
    "        return False\n",
    "\n",
    "    # Get the intervals for the day from the schedule\n",
    "    intervals = schedule[day_of_week]\n",
    "    intervals = intervals.strip('[]').split(', ')\n",
    "    intervals_fix = []\n",
    "    for interval in intervals:\n",
    "        splits = interval.split('-')\n",
    "        interval_lst = []\n",
    "        for element in splits:\n",
    "            interval_lst.append(element.strip())\n",
    "        intervals_fix.append(interval_lst)\n",
    "\n",
    "    for start, end in intervals_fix:\n",
    "        pattern = r'^\\d{2}'\n",
    "    \n",
    "        # Use the search function to find if the pattern matches the string\n",
    "        match_start = re.search(pattern, start)\n",
    "        match_end = re.search(pattern, end)\n",
    "        if bool(match_start) == True:\n",
    "            if int(start[:2]) > 12:\n",
    "                new_num = int(start[:2]) - 12\n",
    "                start = str(new_num) + start[2:]\n",
    "        if bool(match_end) == True:\n",
    "            if int(end[:2]) > 12:\n",
    "                new_num = int(end[:2]) - 12\n",
    "                end = str(new_num) + end[2:]\n",
    "    \n",
    "        try:\n",
    "            start_time = datetime.strptime(start, '%I %p').time()\n",
    "        except ValueError:\n",
    "            start_time = datetime.strptime(start, '%I:%M %p').time()\n",
    "\n",
    "        try:\n",
    "            end_time = datetime.strptime(end, '%I %p').time()\n",
    "            \n",
    "        except ValueError:\n",
    "            end_time = datetime.strptime(end, '%I:%M %p').time()        \n",
    "\n",
    "        # Check if the datetime falls within this interval\n",
    "        if start_time <= datetime_obj.time() <= end_time:\n",
    "            return True\n",
    "\n",
    "    # If none of the intervals match, return False\n",
    "    return False"
   ]
  },
  {
   "cell_type": "code",
   "execution_count": null,
   "id": "ea230ea8-7746-4c67-82a1-f45c63305dbe",
   "metadata": {},
   "outputs": [],
   "source": []
  }
 ],
 "metadata": {
  "kernelspec": {
   "display_name": "Python 3 (ipykernel)",
   "language": "python",
   "name": "python3"
  },
  "language_info": {
   "codemirror_mode": {
    "name": "ipython",
    "version": 3
   },
   "file_extension": ".py",
   "mimetype": "text/x-python",
   "name": "python",
   "nbconvert_exporter": "python",
   "pygments_lexer": "ipython3",
   "version": "3.11.7"
  }
 },
 "nbformat": 4,
 "nbformat_minor": 5
}
