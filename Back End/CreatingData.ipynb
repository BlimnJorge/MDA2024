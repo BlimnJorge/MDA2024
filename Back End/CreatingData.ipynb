{
 "cells": [
  {
   "cell_type": "code",
   "execution_count": null,
   "id": "45913a2e-55d6-4fbd-9cdf-c19cbcdc541e",
   "metadata": {},
   "outputs": [],
   "source": [
    "data = pd.read_excel('new_aed_locations.xlsx')\n",
    "\n",
    "\n",
    "def geocode_address(address):\n",
    "    result = gmaps.geocode(address)\n",
    "    if result:\n",
    "        location = result[0]['geometry']['location']\n",
    "        return location['lat'], location['lng']\n",
    "    else:\n",
    "        return None, None\n",
    "\n",
    "\n",
    "aed_df['latitude'], aed_df['longitude'] = zip(*aed_df['location_aed'].apply(geocode_address))\n",
    "\n",
    "## CREATE DATA"
   ]
  }
 ],
 "metadata": {
  "kernelspec": {
   "display_name": "Python 3 (ipykernel)",
   "language": "python",
   "name": "python3"
  },
  "language_info": {
   "codemirror_mode": {
    "name": "ipython",
    "version": 3
   },
   "file_extension": ".py",
   "mimetype": "text/x-python",
   "name": "python",
   "nbconvert_exporter": "python",
   "pygments_lexer": "ipython3",
   "version": "3.11.7"
  }
 },
 "nbformat": 4,
 "nbformat_minor": 5
}
